{
 "cells": [
  {
   "cell_type": "code",
   "execution_count": 25,
   "id": "4ce9837f",
   "metadata": {},
   "outputs": [
    {
     "name": "stderr",
     "output_type": "stream",
     "text": [
      "C:\\Users\\BIT\\AppData\\Local\\Temp/ipykernel_3780/1596483375.py:8: DeprecationWarning: executable_path has been deprecated, please pass in a Service object\n",
      "  driver = webdriver.Chrome(\"e:/chromedriver_win32/chromedriver.exe\")\n",
      "C:\\Users\\BIT\\AppData\\Local\\Temp/ipykernel_3780/1596483375.py:15: DeprecationWarning: find_element_by_* commands are deprecated. Please use find_element() instead\n",
      "  elem=driver.find_element_by_class_name(\"input_search\")\n",
      "C:\\Users\\BIT\\AppData\\Local\\Temp/ipykernel_3780/1596483375.py:32: DeprecationWarning: find_element_by_* commands are deprecated. Please use find_element() instead\n",
      "  filter_btn1 = driver.find_element_by_css_selector('#app-root > div > div._3wTZJ._2X43I > div > div > div > span:nth-child(2) > a')\n",
      "C:\\Users\\BIT\\AppData\\Local\\Temp/ipykernel_3780/1596483375.py:37: DeprecationWarning: find_element_by_* commands are deprecated. Please use find_element() instead\n",
      "  filter_btn1 = driver.find_element_by_css_selector('#app-root > div > div._3wTZJ._2X43I > div._1aXbD > div > ul > li:nth-child(3) > a')\n",
      "C:\\Users\\BIT\\AppData\\Local\\Temp/ipykernel_3780/1596483375.py:42: DeprecationWarning: find_element_by_* commands are deprecated. Please use find_element() instead\n",
      "  filter_btn = driver.find_element_by_css_selector('._1qriX')\n",
      "C:\\Users\\BIT\\AppData\\Local\\Temp/ipykernel_3780/1596483375.py:48: DeprecationWarning: find_element_by_* commands are deprecated. Please use find_element() instead\n",
      "  kf_btn = driver.find_element_by_css_selector('#modal-root > div > div > div > div._2eO1p > div > div > ul > li:nth-child(1) > div > a:nth-child(1)')\n",
      "C:\\Users\\BIT\\AppData\\Local\\Temp/ipykernel_3780/1596483375.py:54: DeprecationWarning: find_element_by_* commands are deprecated. Please use find_element() instead\n",
      "  apply_btn = driver.find_element_by_css_selector('#modal-root > div > div > div > div._3GN6y > a._3TurT._3hOhO')\n",
      "C:\\Users\\BIT\\AppData\\Local\\Temp/ipykernel_3780/1596483375.py:65: DeprecationWarning: find_element_by_* commands are deprecated. Please use find_element() instead\n",
      "  select_btn = driver.find_element_by_css_selector('#_pcmap_list_scroll_container > ul > li:nth-child({}) > div._3hn9q > a > div.O9Z-o > div > span.OXiLu'.format(i))\n"
     ]
    },
    {
     "data": {
      "text/plain": [
       "'\\n\\nfilter_btn = driver.find_element_by_css_selector(\\'._1qriX\\')\\nfilter_btn.click()\\n\\n\\n# 필터 분류\\nwhile True:\\n    try:\\n        filter_btn = driver.find_element_by_css_selector(\\'._1qriX\\')\\n        break;\\n    except:\\n        print(\"Error!\")\\n        time.sleep(1)\\n        \\n#filter_btn = driver.find_element_by_class_name(\"._1qriX.XvZo0\")\\n# 구체적인 것을 선택하기 위해서는 queryselector로 검색 + .은 class -> class 2개 클릭\\n\\nfilter_btn.click()\\n\\n\\n\\n\\n\\n\\n\\n\\n\\n\\n\\nreq = urlopen(url)\\n\\nif req.getcode() == 200:\\n    html=req.read().decode(\"utf-8\")\\n\\nsoup = BeautifulSoup(html)\\nprint(soup)\\n\\n\\n'"
      ]
     },
     "execution_count": 25,
     "metadata": {},
     "output_type": "execute_result"
    }
   ],
   "source": [
    "from urllib.request import urlopen\n",
    "import time\n",
    "from bs4 import BeautifulSoup\n",
    "from selenium import webdriver\n",
    "from selenium.webdriver.common.keys import Keys\n",
    "\n",
    "url = \"https://map.naver.com/v5/?c=14139888.0710906,4507920.1560387,15,0,0,0,dh\"\n",
    "driver = webdriver.Chrome(\"e:/chromedriver_win32/chromedriver.exe\")\n",
    "driver.get(url)\n",
    "\n",
    "\n",
    "# 음식점 검색\n",
    "\n",
    "\n",
    "elem=driver.find_element_by_class_name(\"input_search\")\n",
    "elem.send_keys('음식점')\n",
    "\n",
    "time.sleep(2)\n",
    "\n",
    "elem.send_keys(Keys.ENTER)\n",
    "\n",
    "time.sleep(3)\n",
    "\n",
    "\n",
    "driver.switch_to.frame(\"searchIframe\")\n",
    "\n",
    "r = driver.page_source\n",
    "soup = BeautifulSoup(r, \"html.parser\")\n",
    "\n",
    "# 리뷰 순으로 정렬\n",
    "\n",
    "filter_btn1 = driver.find_element_by_css_selector('#app-root > div > div._3wTZJ._2X43I > div > div > div > span:nth-child(2) > a')\n",
    "filter_btn1.click()\n",
    "time.sleep(3)\n",
    "\n",
    "\n",
    "filter_btn1 = driver.find_element_by_css_selector('#app-root > div > div._3wTZJ._2X43I > div._1aXbD > div > ul > li:nth-child(3) > a')\n",
    "filter_btn1.click()\n",
    "time.sleep(3)\n",
    "\n",
    "# 필터 선택\n",
    "filter_btn = driver.find_element_by_css_selector('._1qriX')\n",
    "filter_btn.click()\n",
    "time.sleep(3)\n",
    "\n",
    "# 한식 선택\n",
    "\n",
    "kf_btn = driver.find_element_by_css_selector('#modal-root > div > div > div > div._2eO1p > div > div > ul > li:nth-child(1) > div > a:nth-child(1)')\n",
    "kf_btn.click()\n",
    "time.sleep(3)\n",
    "\n",
    "\n",
    "# 적용\n",
    "apply_btn = driver.find_element_by_css_selector('#modal-root > div > div > div > div._3GN6y > a._3TurT._3hOhO')\n",
    "apply_btn.click()\n",
    "time.sleep(3)\n",
    "\n",
    "\n",
    "\n",
    "\n",
    "\n",
    "numbers = [1, 2, 3, 4, 5]\n",
    "\n",
    "for i in numbers:\n",
    "    select_btn = driver.find_element_by_css_selector('#_pcmap_list_scroll_container > ul > li:nth-child({}) > div._3hn9q > a > div.O9Z-o > div > span.OXiLu'.format(i))\n",
    "    select_btn.click()\n",
    "    time.sleep(3)\n",
    "\n",
    "    \n",
    "\n",
    "\n",
    "\n",
    "\n",
    "\n",
    "\n"
   ]
  }
 ],
 "metadata": {
  "kernelspec": {
   "display_name": "Python [conda env:data-env] *",
   "language": "python",
   "name": "conda-env-data-env-py"
  },
  "language_info": {
   "codemirror_mode": {
    "name": "ipython",
    "version": 3
   },
   "file_extension": ".py",
   "mimetype": "text/x-python",
   "name": "python",
   "nbconvert_exporter": "python",
   "pygments_lexer": "ipython3",
   "version": "3.8.12"
  }
 },
 "nbformat": 4,
 "nbformat_minor": 5
}
